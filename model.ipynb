{
 "cells": [
  {
   "cell_type": "code",
   "execution_count": 115,
   "metadata": {},
   "outputs": [],
   "source": [
    "import pandas as pd\n",
    "df_train = pd.read_csv('train.csv')\n"
   ]
  },
  {
   "cell_type": "code",
   "execution_count": 116,
   "metadata": {},
   "outputs": [
    {
     "data": {
      "text/plain": [
       "(93800, 19)"
      ]
     },
     "execution_count": 116,
     "metadata": {},
     "output_type": "execute_result"
    }
   ],
   "source": [
    "df_test = pd.read_csv('test.csv')\n",
    "df_test.shape"
   ]
  },
  {
   "cell_type": "code",
   "execution_count": 43,
   "metadata": {},
   "outputs": [
    {
     "name": "stdout",
     "output_type": "stream",
     "text": [
      "<class 'pandas.core.frame.DataFrame'>\n",
      "RangeIndex: 140700 entries, 0 to 140699\n",
      "Data columns (total 20 columns):\n",
      " #   Column                                 Non-Null Count   Dtype  \n",
      "---  ------                                 --------------   -----  \n",
      " 0   id                                     140700 non-null  int64  \n",
      " 1   Name                                   140700 non-null  object \n",
      " 2   Gender                                 140700 non-null  object \n",
      " 3   Age                                    140700 non-null  float64\n",
      " 4   City                                   140700 non-null  object \n",
      " 5   Working Professional or Student        140700 non-null  object \n",
      " 6   Profession                             104070 non-null  object \n",
      " 7   Academic Pressure                      27897 non-null   float64\n",
      " 8   Work Pressure                          112782 non-null  float64\n",
      " 9   CGPA                                   27898 non-null   float64\n",
      " 10  Study Satisfaction                     27897 non-null   float64\n",
      " 11  Job Satisfaction                       112790 non-null  float64\n",
      " 12  Sleep Duration                         140700 non-null  object \n",
      " 13  Dietary Habits                         140696 non-null  object \n",
      " 14  Degree                                 140698 non-null  object \n",
      " 15  Have you ever had suicidal thoughts ?  140700 non-null  object \n",
      " 16  Work/Study Hours                       140700 non-null  float64\n",
      " 17  Financial Stress                       140696 non-null  float64\n",
      " 18  Family History of Mental Illness       140700 non-null  object \n",
      " 19  Depression                             140700 non-null  int64  \n",
      "dtypes: float64(8), int64(2), object(10)\n",
      "memory usage: 21.5+ MB\n"
     ]
    }
   ],
   "source": [
    "df_train.info()"
   ]
  },
  {
   "cell_type": "code",
   "execution_count": 13,
   "metadata": {},
   "outputs": [
    {
     "data": {
      "text/plain": [
       "id                                            0\n",
       "Name                                          0\n",
       "Gender                                        0\n",
       "Age                                           0\n",
       "City                                          0\n",
       "Working Professional or Student               0\n",
       "Profession                                36630\n",
       "Academic Pressure                        112803\n",
       "Work Pressure                             27918\n",
       "CGPA                                     112802\n",
       "Study Satisfaction                       112803\n",
       "Job Satisfaction                          27910\n",
       "Sleep Duration                                0\n",
       "Dietary Habits                                4\n",
       "Degree                                        2\n",
       "Have you ever had suicidal thoughts ?         0\n",
       "Work/Study Hours                              0\n",
       "Financial Stress                              4\n",
       "Family History of Mental Illness              0\n",
       "Depression                                    0\n",
       "dtype: int64"
      ]
     },
     "execution_count": 13,
     "metadata": {},
     "output_type": "execute_result"
    }
   ],
   "source": [
    "df_train.isnull().sum()"
   ]
  },
  {
   "cell_type": "code",
   "execution_count": 30,
   "metadata": {},
   "outputs": [
    {
     "name": "stdout",
     "output_type": "stream",
     "text": [
      "<class 'pandas.core.frame.DataFrame'>\n",
      "RangeIndex: 93800 entries, 0 to 93799\n",
      "Data columns (total 19 columns):\n",
      " #   Column                                 Non-Null Count  Dtype  \n",
      "---  ------                                 --------------  -----  \n",
      " 0   id                                     93800 non-null  int64  \n",
      " 1   Name                                   93800 non-null  object \n",
      " 2   Gender                                 93800 non-null  object \n",
      " 3   Age                                    93800 non-null  float64\n",
      " 4   City                                   93800 non-null  object \n",
      " 5   Working Professional or Student        93800 non-null  object \n",
      " 6   Profession                             69168 non-null  object \n",
      " 7   Academic Pressure                      18767 non-null  float64\n",
      " 8   Work Pressure                          75022 non-null  float64\n",
      " 9   CGPA                                   18766 non-null  float64\n",
      " 10  Study Satisfaction                     18767 non-null  float64\n",
      " 11  Job Satisfaction                       75026 non-null  float64\n",
      " 12  Sleep Duration                         93800 non-null  object \n",
      " 13  Dietary Habits                         93795 non-null  object \n",
      " 14  Degree                                 93798 non-null  object \n",
      " 15  Have you ever had suicidal thoughts ?  93800 non-null  object \n",
      " 16  Work/Study Hours                       93800 non-null  float64\n",
      " 17  Financial Stress                       93800 non-null  float64\n",
      " 18  Family History of Mental Illness       93800 non-null  object \n",
      "dtypes: float64(8), int64(1), object(10)\n",
      "memory usage: 13.6+ MB\n"
     ]
    }
   ],
   "source": [
    "df_test.info()"
   ]
  },
  {
   "cell_type": "markdown",
   "metadata": {},
   "source": [
    "Imputation of training data"
   ]
  },
  {
   "cell_type": "code",
   "execution_count": 117,
   "metadata": {},
   "outputs": [],
   "source": [
    "df_train['Financial Stress'] = df_train['Financial Stress'].fillna(df_train['Financial Stress'].mean())\n",
    "\n",
    "df_train['Dietary Habits'] = df_train['Dietary Habits'].fillna(df_train['Dietary Habits'].mode()[0])\n",
    "\n",
    "df_train['Degree'] = df_train['Degree'].fillna(df_train['Degree'].mode()[0])"
   ]
  },
  {
   "cell_type": "code",
   "execution_count": 118,
   "metadata": {},
   "outputs": [],
   "source": [
    "df_train['Job Satisfaction'] = df_train['Job Satisfaction'].fillna(df_train['Job Satisfaction'].mean())\n",
    "df_train['Work Pressure'] = df_train['Work Pressure'].fillna(df_train['Work Pressure'].mean())"
   ]
  },
  {
   "cell_type": "code",
   "execution_count": 119,
   "metadata": {},
   "outputs": [],
   "source": [
    "df_train['Profession'] = df_train['Profession'].fillna(df_train['Profession'].mode()[0])"
   ]
  },
  {
   "cell_type": "code",
   "execution_count": 120,
   "metadata": {},
   "outputs": [],
   "source": [
    "df_train = df_train.drop(['Academic Pressure','CGPA','Study Satisfaction'], axis = 1)"
   ]
  },
  {
   "cell_type": "markdown",
   "metadata": {},
   "source": [
    "Imputation of testing data"
   ]
  },
  {
   "cell_type": "code",
   "execution_count": 121,
   "metadata": {},
   "outputs": [],
   "source": [
    "df_test['Dietary Habits'] = df_test['Dietary Habits'].fillna(df_test['Dietary Habits'].mode()[0])\n",
    "\n",
    "df_test['Degree'] = df_test['Degree'].fillna(df_test['Degree'].mode()[0])\n",
    "\n",
    "df_test['Profession'] = df_test['Profession'].fillna(df_test['Profession'].mode()[0])"
   ]
  },
  {
   "cell_type": "code",
   "execution_count": 122,
   "metadata": {},
   "outputs": [],
   "source": [
    "df_test['Job Satisfaction'] = df_test['Job Satisfaction'].fillna(df_test['Job Satisfaction'].mean())\n",
    "\n",
    "df_test['Work Pressure'] = df_test['Work Pressure'].fillna(df_test['Work Pressure'].mean())"
   ]
  },
  {
   "cell_type": "code",
   "execution_count": 123,
   "metadata": {},
   "outputs": [],
   "source": [
    "df_test = df_test.drop(['Academic Pressure','CGPA','Study Satisfaction'], axis = 1)"
   ]
  },
  {
   "cell_type": "markdown",
   "metadata": {},
   "source": [
    "Feature Selection"
   ]
  },
  {
   "cell_type": "code",
   "execution_count": 30,
   "metadata": {},
   "outputs": [],
   "source": [
    "df_copy = pd.DataFrame()  # Initialize empty DataFrame\n",
    "category = []\n",
    "for col in df_train.columns:\n",
    "    if df_train[col].dtype in ['int64', 'float64']:  # Check data type\n",
    "        df_copy[col] = df_train[col]  # Copy column to df_copy\n",
    "    else:\n",
    "        category.append(col)"
   ]
  },
  {
   "cell_type": "code",
   "execution_count": 39,
   "metadata": {},
   "outputs": [
    {
     "name": "stdout",
     "output_type": "stream",
     "text": [
      "id                  0.003944\n",
      "Age                -0.564671\n",
      "Work Pressure       0.137823\n",
      "Job Satisfaction   -0.107254\n",
      "Work/Study Hours    0.191746\n",
      "Financial Stress    0.227232\n",
      "Name: Depression, dtype: float64\n"
     ]
    }
   ],
   "source": [
    "import pandas as pd\n",
    "import seaborn as sns\n",
    "import matplotlib.pyplot as plt\n",
    "\n",
    "# Compute correlation matrix\n",
    "corr_matrix = df_copy.corr()\n",
    "\n",
    "# Select correlation with target variable\n",
    "target_var = 'Depression'\n",
    "target_correlation = corr_matrix[target_var].drop(target_var)  # Drop self-correlation\n",
    "\n",
    "print(target_correlation)  # Print correlation values"
   ]
  },
  {
   "cell_type": "code",
   "execution_count": 40,
   "metadata": {},
   "outputs": [
    {
     "name": "stdout",
     "output_type": "stream",
     "text": [
      "                                        F-Statistic        p-value\n",
      "Working Professional or Student        52362.234543   0.000000e+00\n",
      "Have you ever had suicidal thoughts ?  19522.362537   0.000000e+00\n",
      "Profession                               352.102208   0.000000e+00\n",
      "Dietary Habits                           152.133774   0.000000e+00\n",
      "Degree                                   127.398698   0.000000e+00\n",
      "Family History of Mental Illness          38.322757   6.012406e-10\n",
      "Sleep Duration                            35.452694  6.790627e-237\n",
      "City                                      11.676960  2.682903e-175\n"
     ]
    }
   ],
   "source": [
    "import pandas as pd\n",
    "import numpy as np\n",
    "from scipy.stats import f_oneway\n",
    "\n",
    "# Define categorical independent variables and continuous target\n",
    "\n",
    "target = 'Depression'\n",
    "col = ['Name',\n",
    " 'Gender',\n",
    " 'City',\n",
    " 'Working Professional or Student',\n",
    " 'Profession',\n",
    " 'Sleep Duration',\n",
    " 'Dietary Habits',\n",
    " 'Degree',\n",
    " 'Have you ever had suicidal thoughts ?',\n",
    " 'Family History of Mental Illness']\n",
    "\n",
    "# Perform ANOVA for each categorical feature\n",
    "anova_results = {}\n",
    "\n",
    "for col in category:\n",
    "    groups = [df_train[df_train[col] == category][target] for category in df_train[col].unique()]\n",
    "    f_stat, p_value = f_oneway(*groups)\n",
    "    anova_results[col] = {'F-Statistic': f_stat, 'p-value': p_value}\n",
    "\n",
    "# Convert results to DataFrame\n",
    "anova_df_train = pd.DataFrame(anova_results).T\n",
    "print(anova_df_train.sort_values(by=\"F-Statistic\", ascending=False))\n"
   ]
  },
  {
   "cell_type": "code",
   "execution_count": 124,
   "metadata": {},
   "outputs": [],
   "source": [
    "df_train = df_train.drop(['id','Work Pressure','Job Satisfaction','Dietary Habits'], axis = 1)"
   ]
  },
  {
   "cell_type": "code",
   "execution_count": 125,
   "metadata": {},
   "outputs": [
    {
     "data": {
      "text/html": [
       "<div>\n",
       "<style scoped>\n",
       "    .dataframe tbody tr th:only-of-type {\n",
       "        vertical-align: middle;\n",
       "    }\n",
       "\n",
       "    .dataframe tbody tr th {\n",
       "        vertical-align: top;\n",
       "    }\n",
       "\n",
       "    .dataframe thead th {\n",
       "        text-align: right;\n",
       "    }\n",
       "</style>\n",
       "<table border=\"1\" class=\"dataframe\">\n",
       "  <thead>\n",
       "    <tr style=\"text-align: right;\">\n",
       "      <th></th>\n",
       "      <th>Age</th>\n",
       "      <th>Working Professional or Student</th>\n",
       "      <th>Profession</th>\n",
       "      <th>Sleep Duration</th>\n",
       "      <th>Degree</th>\n",
       "      <th>Have you ever had suicidal thoughts ?</th>\n",
       "      <th>Work/Study Hours</th>\n",
       "      <th>Financial Stress</th>\n",
       "      <th>Depression</th>\n",
       "    </tr>\n",
       "  </thead>\n",
       "  <tbody>\n",
       "    <tr>\n",
       "      <th>0</th>\n",
       "      <td>49.0</td>\n",
       "      <td>Working Professional</td>\n",
       "      <td>Chef</td>\n",
       "      <td>More than 8 hours</td>\n",
       "      <td>BHM</td>\n",
       "      <td>No</td>\n",
       "      <td>1.0</td>\n",
       "      <td>2.0</td>\n",
       "      <td>0</td>\n",
       "    </tr>\n",
       "    <tr>\n",
       "      <th>1</th>\n",
       "      <td>26.0</td>\n",
       "      <td>Working Professional</td>\n",
       "      <td>Teacher</td>\n",
       "      <td>Less than 5 hours</td>\n",
       "      <td>LLB</td>\n",
       "      <td>Yes</td>\n",
       "      <td>7.0</td>\n",
       "      <td>3.0</td>\n",
       "      <td>1</td>\n",
       "    </tr>\n",
       "    <tr>\n",
       "      <th>2</th>\n",
       "      <td>33.0</td>\n",
       "      <td>Student</td>\n",
       "      <td>Teacher</td>\n",
       "      <td>5-6 hours</td>\n",
       "      <td>B.Pharm</td>\n",
       "      <td>Yes</td>\n",
       "      <td>3.0</td>\n",
       "      <td>1.0</td>\n",
       "      <td>1</td>\n",
       "    </tr>\n",
       "    <tr>\n",
       "      <th>3</th>\n",
       "      <td>22.0</td>\n",
       "      <td>Working Professional</td>\n",
       "      <td>Teacher</td>\n",
       "      <td>Less than 5 hours</td>\n",
       "      <td>BBA</td>\n",
       "      <td>Yes</td>\n",
       "      <td>10.0</td>\n",
       "      <td>1.0</td>\n",
       "      <td>1</td>\n",
       "    </tr>\n",
       "    <tr>\n",
       "      <th>4</th>\n",
       "      <td>30.0</td>\n",
       "      <td>Working Professional</td>\n",
       "      <td>Business Analyst</td>\n",
       "      <td>5-6 hours</td>\n",
       "      <td>BBA</td>\n",
       "      <td>Yes</td>\n",
       "      <td>9.0</td>\n",
       "      <td>4.0</td>\n",
       "      <td>0</td>\n",
       "    </tr>\n",
       "    <tr>\n",
       "      <th>...</th>\n",
       "      <td>...</td>\n",
       "      <td>...</td>\n",
       "      <td>...</td>\n",
       "      <td>...</td>\n",
       "      <td>...</td>\n",
       "      <td>...</td>\n",
       "      <td>...</td>\n",
       "      <td>...</td>\n",
       "      <td>...</td>\n",
       "    </tr>\n",
       "    <tr>\n",
       "      <th>140695</th>\n",
       "      <td>18.0</td>\n",
       "      <td>Working Professional</td>\n",
       "      <td>Teacher</td>\n",
       "      <td>5-6 hours</td>\n",
       "      <td>Class 12</td>\n",
       "      <td>No</td>\n",
       "      <td>2.0</td>\n",
       "      <td>4.0</td>\n",
       "      <td>1</td>\n",
       "    </tr>\n",
       "    <tr>\n",
       "      <th>140696</th>\n",
       "      <td>41.0</td>\n",
       "      <td>Working Professional</td>\n",
       "      <td>Content Writer</td>\n",
       "      <td>7-8 hours</td>\n",
       "      <td>B.Tech</td>\n",
       "      <td>Yes</td>\n",
       "      <td>6.0</td>\n",
       "      <td>5.0</td>\n",
       "      <td>0</td>\n",
       "    </tr>\n",
       "    <tr>\n",
       "      <th>140697</th>\n",
       "      <td>24.0</td>\n",
       "      <td>Working Professional</td>\n",
       "      <td>Marketing Manager</td>\n",
       "      <td>More than 8 hours</td>\n",
       "      <td>B.Com</td>\n",
       "      <td>No</td>\n",
       "      <td>4.0</td>\n",
       "      <td>4.0</td>\n",
       "      <td>0</td>\n",
       "    </tr>\n",
       "    <tr>\n",
       "      <th>140698</th>\n",
       "      <td>49.0</td>\n",
       "      <td>Working Professional</td>\n",
       "      <td>Plumber</td>\n",
       "      <td>5-6 hours</td>\n",
       "      <td>ME</td>\n",
       "      <td>Yes</td>\n",
       "      <td>10.0</td>\n",
       "      <td>1.0</td>\n",
       "      <td>0</td>\n",
       "    </tr>\n",
       "    <tr>\n",
       "      <th>140699</th>\n",
       "      <td>27.0</td>\n",
       "      <td>Student</td>\n",
       "      <td>Teacher</td>\n",
       "      <td>Less than 5 hours</td>\n",
       "      <td>BCA</td>\n",
       "      <td>Yes</td>\n",
       "      <td>2.0</td>\n",
       "      <td>3.0</td>\n",
       "      <td>1</td>\n",
       "    </tr>\n",
       "  </tbody>\n",
       "</table>\n",
       "<p>140700 rows × 9 columns</p>\n",
       "</div>"
      ],
      "text/plain": [
       "         Age Working Professional or Student         Profession  \\\n",
       "0       49.0            Working Professional               Chef   \n",
       "1       26.0            Working Professional            Teacher   \n",
       "2       33.0                         Student            Teacher   \n",
       "3       22.0            Working Professional            Teacher   \n",
       "4       30.0            Working Professional   Business Analyst   \n",
       "...      ...                             ...                ...   \n",
       "140695  18.0            Working Professional            Teacher   \n",
       "140696  41.0            Working Professional     Content Writer   \n",
       "140697  24.0            Working Professional  Marketing Manager   \n",
       "140698  49.0            Working Professional            Plumber   \n",
       "140699  27.0                         Student            Teacher   \n",
       "\n",
       "           Sleep Duration    Degree Have you ever had suicidal thoughts ?  \\\n",
       "0       More than 8 hours       BHM                                    No   \n",
       "1       Less than 5 hours       LLB                                   Yes   \n",
       "2               5-6 hours   B.Pharm                                   Yes   \n",
       "3       Less than 5 hours       BBA                                   Yes   \n",
       "4               5-6 hours       BBA                                   Yes   \n",
       "...                   ...       ...                                   ...   \n",
       "140695          5-6 hours  Class 12                                    No   \n",
       "140696          7-8 hours    B.Tech                                   Yes   \n",
       "140697  More than 8 hours     B.Com                                    No   \n",
       "140698          5-6 hours        ME                                   Yes   \n",
       "140699  Less than 5 hours       BCA                                   Yes   \n",
       "\n",
       "        Work/Study Hours  Financial Stress  Depression  \n",
       "0                    1.0               2.0           0  \n",
       "1                    7.0               3.0           1  \n",
       "2                    3.0               1.0           1  \n",
       "3                   10.0               1.0           1  \n",
       "4                    9.0               4.0           0  \n",
       "...                  ...               ...         ...  \n",
       "140695               2.0               4.0           1  \n",
       "140696               6.0               5.0           0  \n",
       "140697               4.0               4.0           0  \n",
       "140698              10.0               1.0           0  \n",
       "140699               2.0               3.0           1  \n",
       "\n",
       "[140700 rows x 9 columns]"
      ]
     },
     "execution_count": 125,
     "metadata": {},
     "output_type": "execute_result"
    }
   ],
   "source": [
    "df_train = df_train.drop(['Name','Gender','Family History of Mental Illness','City'], axis = 1)\n",
    "df_train"
   ]
  },
  {
   "cell_type": "code",
   "execution_count": 126,
   "metadata": {},
   "outputs": [],
   "source": [
    "df_test = df_test.drop(['id','Work Pressure','Job Satisfaction'], axis = 1)"
   ]
  },
  {
   "cell_type": "code",
   "execution_count": 127,
   "metadata": {},
   "outputs": [
    {
     "data": {
      "text/html": [
       "<div>\n",
       "<style scoped>\n",
       "    .dataframe tbody tr th:only-of-type {\n",
       "        vertical-align: middle;\n",
       "    }\n",
       "\n",
       "    .dataframe tbody tr th {\n",
       "        vertical-align: top;\n",
       "    }\n",
       "\n",
       "    .dataframe thead th {\n",
       "        text-align: right;\n",
       "    }\n",
       "</style>\n",
       "<table border=\"1\" class=\"dataframe\">\n",
       "  <thead>\n",
       "    <tr style=\"text-align: right;\">\n",
       "      <th></th>\n",
       "      <th>Age</th>\n",
       "      <th>Working Professional or Student</th>\n",
       "      <th>Profession</th>\n",
       "      <th>Sleep Duration</th>\n",
       "      <th>Degree</th>\n",
       "      <th>Have you ever had suicidal thoughts ?</th>\n",
       "      <th>Work/Study Hours</th>\n",
       "      <th>Financial Stress</th>\n",
       "    </tr>\n",
       "  </thead>\n",
       "  <tbody>\n",
       "    <tr>\n",
       "      <th>0</th>\n",
       "      <td>53.0</td>\n",
       "      <td>Working Professional</td>\n",
       "      <td>Judge</td>\n",
       "      <td>Less than 5 hours</td>\n",
       "      <td>LLB</td>\n",
       "      <td>No</td>\n",
       "      <td>9.0</td>\n",
       "      <td>3.0</td>\n",
       "    </tr>\n",
       "    <tr>\n",
       "      <th>1</th>\n",
       "      <td>58.0</td>\n",
       "      <td>Working Professional</td>\n",
       "      <td>Educational Consultant</td>\n",
       "      <td>Less than 5 hours</td>\n",
       "      <td>B.Ed</td>\n",
       "      <td>No</td>\n",
       "      <td>6.0</td>\n",
       "      <td>4.0</td>\n",
       "    </tr>\n",
       "    <tr>\n",
       "      <th>2</th>\n",
       "      <td>53.0</td>\n",
       "      <td>Working Professional</td>\n",
       "      <td>Teacher</td>\n",
       "      <td>7-8 hours</td>\n",
       "      <td>B.Arch</td>\n",
       "      <td>Yes</td>\n",
       "      <td>12.0</td>\n",
       "      <td>4.0</td>\n",
       "    </tr>\n",
       "    <tr>\n",
       "      <th>3</th>\n",
       "      <td>23.0</td>\n",
       "      <td>Student</td>\n",
       "      <td>Teacher</td>\n",
       "      <td>More than 8 hours</td>\n",
       "      <td>BSc</td>\n",
       "      <td>Yes</td>\n",
       "      <td>10.0</td>\n",
       "      <td>4.0</td>\n",
       "    </tr>\n",
       "    <tr>\n",
       "      <th>4</th>\n",
       "      <td>47.0</td>\n",
       "      <td>Working Professional</td>\n",
       "      <td>Teacher</td>\n",
       "      <td>7-8 hours</td>\n",
       "      <td>BCA</td>\n",
       "      <td>Yes</td>\n",
       "      <td>3.0</td>\n",
       "      <td>4.0</td>\n",
       "    </tr>\n",
       "    <tr>\n",
       "      <th>...</th>\n",
       "      <td>...</td>\n",
       "      <td>...</td>\n",
       "      <td>...</td>\n",
       "      <td>...</td>\n",
       "      <td>...</td>\n",
       "      <td>...</td>\n",
       "      <td>...</td>\n",
       "      <td>...</td>\n",
       "    </tr>\n",
       "    <tr>\n",
       "      <th>93795</th>\n",
       "      <td>49.0</td>\n",
       "      <td>Working Professional</td>\n",
       "      <td>Pilot</td>\n",
       "      <td>Less than 5 hours</td>\n",
       "      <td>BSc</td>\n",
       "      <td>Yes</td>\n",
       "      <td>2.0</td>\n",
       "      <td>2.0</td>\n",
       "    </tr>\n",
       "    <tr>\n",
       "      <th>93796</th>\n",
       "      <td>29.0</td>\n",
       "      <td>Working Professional</td>\n",
       "      <td>Pilot</td>\n",
       "      <td>7-8 hours</td>\n",
       "      <td>BE</td>\n",
       "      <td>Yes</td>\n",
       "      <td>11.0</td>\n",
       "      <td>3.0</td>\n",
       "    </tr>\n",
       "    <tr>\n",
       "      <th>93797</th>\n",
       "      <td>24.0</td>\n",
       "      <td>Student</td>\n",
       "      <td>Teacher</td>\n",
       "      <td>7-8 hours</td>\n",
       "      <td>B.Tech</td>\n",
       "      <td>No</td>\n",
       "      <td>7.0</td>\n",
       "      <td>1.0</td>\n",
       "    </tr>\n",
       "    <tr>\n",
       "      <th>93798</th>\n",
       "      <td>23.0</td>\n",
       "      <td>Working Professional</td>\n",
       "      <td>Marketing Manager</td>\n",
       "      <td>5-6 hours</td>\n",
       "      <td>BA</td>\n",
       "      <td>Yes</td>\n",
       "      <td>7.0</td>\n",
       "      <td>5.0</td>\n",
       "    </tr>\n",
       "    <tr>\n",
       "      <th>93799</th>\n",
       "      <td>43.0</td>\n",
       "      <td>Working Professional</td>\n",
       "      <td>Educational Consultant</td>\n",
       "      <td>More than 8 hours</td>\n",
       "      <td>B.Ed</td>\n",
       "      <td>No</td>\n",
       "      <td>11.0</td>\n",
       "      <td>2.0</td>\n",
       "    </tr>\n",
       "  </tbody>\n",
       "</table>\n",
       "<p>93800 rows × 8 columns</p>\n",
       "</div>"
      ],
      "text/plain": [
       "        Age Working Professional or Student              Profession  \\\n",
       "0      53.0            Working Professional                   Judge   \n",
       "1      58.0            Working Professional  Educational Consultant   \n",
       "2      53.0            Working Professional                 Teacher   \n",
       "3      23.0                         Student                 Teacher   \n",
       "4      47.0            Working Professional                 Teacher   \n",
       "...     ...                             ...                     ...   \n",
       "93795  49.0            Working Professional                   Pilot   \n",
       "93796  29.0            Working Professional                   Pilot   \n",
       "93797  24.0                         Student                 Teacher   \n",
       "93798  23.0            Working Professional       Marketing Manager   \n",
       "93799  43.0            Working Professional  Educational Consultant   \n",
       "\n",
       "          Sleep Duration  Degree Have you ever had suicidal thoughts ?  \\\n",
       "0      Less than 5 hours     LLB                                    No   \n",
       "1      Less than 5 hours    B.Ed                                    No   \n",
       "2              7-8 hours  B.Arch                                   Yes   \n",
       "3      More than 8 hours     BSc                                   Yes   \n",
       "4              7-8 hours     BCA                                   Yes   \n",
       "...                  ...     ...                                   ...   \n",
       "93795  Less than 5 hours     BSc                                   Yes   \n",
       "93796          7-8 hours      BE                                   Yes   \n",
       "93797          7-8 hours  B.Tech                                    No   \n",
       "93798          5-6 hours      BA                                   Yes   \n",
       "93799  More than 8 hours    B.Ed                                    No   \n",
       "\n",
       "       Work/Study Hours  Financial Stress  \n",
       "0                   9.0               3.0  \n",
       "1                   6.0               4.0  \n",
       "2                  12.0               4.0  \n",
       "3                  10.0               4.0  \n",
       "4                   3.0               4.0  \n",
       "...                 ...               ...  \n",
       "93795               2.0               2.0  \n",
       "93796              11.0               3.0  \n",
       "93797               7.0               1.0  \n",
       "93798               7.0               5.0  \n",
       "93799              11.0               2.0  \n",
       "\n",
       "[93800 rows x 8 columns]"
      ]
     },
     "execution_count": 127,
     "metadata": {},
     "output_type": "execute_result"
    }
   ],
   "source": [
    "df_test = df_test.drop(['Name','Gender','Family History of Mental Illness','City','Dietary Habits'], axis = 1)\n",
    "df_test"
   ]
  },
  {
   "cell_type": "markdown",
   "metadata": {},
   "source": [
    "# Data preprocessing pipeline"
   ]
  },
  {
   "cell_type": "code",
   "execution_count": null,
   "metadata": {},
   "outputs": [
    {
     "name": "stdout",
     "output_type": "stream",
     "text": [
      "Label Encoders Saved!\n"
     ]
    }
   ],
   "source": [
    "import pickle\n",
    "from sklearn.preprocessing import LabelEncoder\n",
    "\n",
    "# Encoding 'Work/Study Hours'\n",
    "le_work_study = LabelEncoder()\n",
    "df_train['Work/Study Hours'] = le_work_study.fit_transform(df_train['Work/Study Hours'])\n",
    "\n",
    "with open(\"Work_study_le.pkl\", \"wb\") as f:\n",
    "    pickle.dump(le_work_study, f)\n",
    "\n",
    "# Encoding 'Sleep Duration'\n",
    "le_sleep = LabelEncoder()\n",
    "df_train['Sleep Duration'] = le_sleep.fit_transform(df_train['Sleep Duration'])\n",
    "\n",
    "with open(\"Sleep_Duration_le.pkl\", \"wb\") as f:\n",
    "    pickle.dump(le_sleep, f)\n",
    "\n",
    "# Encoding 'Financial Stress'\n",
    "le_financial = LabelEncoder()\n",
    "df_train['Financial Stress'] = le_financial.fit_transform(df_train['Financial Stress'])\n",
    "\n",
    "with open(\"Financial_Stress_le.pkl\", \"wb\") as f:\n",
    "    pickle.dump(le_financial, f)\n",
    "\n",
    "print(\"Label Encoders Saved!\")\n"
   ]
  },
  {
   "cell_type": "code",
   "execution_count": 128,
   "metadata": {},
   "outputs": [
    {
     "data": {
      "text/html": [
       "<div>\n",
       "<style scoped>\n",
       "    .dataframe tbody tr th:only-of-type {\n",
       "        vertical-align: middle;\n",
       "    }\n",
       "\n",
       "    .dataframe tbody tr th {\n",
       "        vertical-align: top;\n",
       "    }\n",
       "\n",
       "    .dataframe thead th {\n",
       "        text-align: right;\n",
       "    }\n",
       "</style>\n",
       "<table border=\"1\" class=\"dataframe\">\n",
       "  <thead>\n",
       "    <tr style=\"text-align: right;\">\n",
       "      <th></th>\n",
       "      <th>Age</th>\n",
       "      <th>Working Professional or Student</th>\n",
       "      <th>Profession</th>\n",
       "      <th>Sleep Duration</th>\n",
       "      <th>Degree</th>\n",
       "      <th>Have you ever had suicidal thoughts ?</th>\n",
       "      <th>Work/Study Hours</th>\n",
       "      <th>Financial Stress</th>\n",
       "    </tr>\n",
       "  </thead>\n",
       "  <tbody>\n",
       "    <tr>\n",
       "      <th>0</th>\n",
       "      <td>53.0</td>\n",
       "      <td>Working Professional</td>\n",
       "      <td>Judge</td>\n",
       "      <td>25</td>\n",
       "      <td>LLB</td>\n",
       "      <td>No</td>\n",
       "      <td>9</td>\n",
       "      <td>2</td>\n",
       "    </tr>\n",
       "    <tr>\n",
       "      <th>1</th>\n",
       "      <td>58.0</td>\n",
       "      <td>Working Professional</td>\n",
       "      <td>Educational Consultant</td>\n",
       "      <td>25</td>\n",
       "      <td>B.Ed</td>\n",
       "      <td>No</td>\n",
       "      <td>6</td>\n",
       "      <td>3</td>\n",
       "    </tr>\n",
       "    <tr>\n",
       "      <th>2</th>\n",
       "      <td>53.0</td>\n",
       "      <td>Working Professional</td>\n",
       "      <td>Teacher</td>\n",
       "      <td>16</td>\n",
       "      <td>B.Arch</td>\n",
       "      <td>Yes</td>\n",
       "      <td>12</td>\n",
       "      <td>3</td>\n",
       "    </tr>\n",
       "    <tr>\n",
       "      <th>3</th>\n",
       "      <td>23.0</td>\n",
       "      <td>Student</td>\n",
       "      <td>Teacher</td>\n",
       "      <td>27</td>\n",
       "      <td>BSc</td>\n",
       "      <td>Yes</td>\n",
       "      <td>10</td>\n",
       "      <td>3</td>\n",
       "    </tr>\n",
       "    <tr>\n",
       "      <th>4</th>\n",
       "      <td>47.0</td>\n",
       "      <td>Working Professional</td>\n",
       "      <td>Teacher</td>\n",
       "      <td>16</td>\n",
       "      <td>BCA</td>\n",
       "      <td>Yes</td>\n",
       "      <td>3</td>\n",
       "      <td>3</td>\n",
       "    </tr>\n",
       "    <tr>\n",
       "      <th>...</th>\n",
       "      <td>...</td>\n",
       "      <td>...</td>\n",
       "      <td>...</td>\n",
       "      <td>...</td>\n",
       "      <td>...</td>\n",
       "      <td>...</td>\n",
       "      <td>...</td>\n",
       "      <td>...</td>\n",
       "    </tr>\n",
       "    <tr>\n",
       "      <th>93795</th>\n",
       "      <td>49.0</td>\n",
       "      <td>Working Professional</td>\n",
       "      <td>Pilot</td>\n",
       "      <td>25</td>\n",
       "      <td>BSc</td>\n",
       "      <td>Yes</td>\n",
       "      <td>2</td>\n",
       "      <td>1</td>\n",
       "    </tr>\n",
       "    <tr>\n",
       "      <th>93796</th>\n",
       "      <td>29.0</td>\n",
       "      <td>Working Professional</td>\n",
       "      <td>Pilot</td>\n",
       "      <td>16</td>\n",
       "      <td>BE</td>\n",
       "      <td>Yes</td>\n",
       "      <td>11</td>\n",
       "      <td>2</td>\n",
       "    </tr>\n",
       "    <tr>\n",
       "      <th>93797</th>\n",
       "      <td>24.0</td>\n",
       "      <td>Student</td>\n",
       "      <td>Teacher</td>\n",
       "      <td>16</td>\n",
       "      <td>B.Tech</td>\n",
       "      <td>No</td>\n",
       "      <td>7</td>\n",
       "      <td>0</td>\n",
       "    </tr>\n",
       "    <tr>\n",
       "      <th>93798</th>\n",
       "      <td>23.0</td>\n",
       "      <td>Working Professional</td>\n",
       "      <td>Marketing Manager</td>\n",
       "      <td>11</td>\n",
       "      <td>BA</td>\n",
       "      <td>Yes</td>\n",
       "      <td>7</td>\n",
       "      <td>4</td>\n",
       "    </tr>\n",
       "    <tr>\n",
       "      <th>93799</th>\n",
       "      <td>43.0</td>\n",
       "      <td>Working Professional</td>\n",
       "      <td>Educational Consultant</td>\n",
       "      <td>27</td>\n",
       "      <td>B.Ed</td>\n",
       "      <td>No</td>\n",
       "      <td>11</td>\n",
       "      <td>1</td>\n",
       "    </tr>\n",
       "  </tbody>\n",
       "</table>\n",
       "<p>93800 rows × 8 columns</p>\n",
       "</div>"
      ],
      "text/plain": [
       "        Age Working Professional or Student              Profession  \\\n",
       "0      53.0            Working Professional                   Judge   \n",
       "1      58.0            Working Professional  Educational Consultant   \n",
       "2      53.0            Working Professional                 Teacher   \n",
       "3      23.0                         Student                 Teacher   \n",
       "4      47.0            Working Professional                 Teacher   \n",
       "...     ...                             ...                     ...   \n",
       "93795  49.0            Working Professional                   Pilot   \n",
       "93796  29.0            Working Professional                   Pilot   \n",
       "93797  24.0                         Student                 Teacher   \n",
       "93798  23.0            Working Professional       Marketing Manager   \n",
       "93799  43.0            Working Professional  Educational Consultant   \n",
       "\n",
       "       Sleep Duration  Degree Have you ever had suicidal thoughts ?  \\\n",
       "0                  25     LLB                                    No   \n",
       "1                  25    B.Ed                                    No   \n",
       "2                  16  B.Arch                                   Yes   \n",
       "3                  27     BSc                                   Yes   \n",
       "4                  16     BCA                                   Yes   \n",
       "...               ...     ...                                   ...   \n",
       "93795              25     BSc                                   Yes   \n",
       "93796              16      BE                                   Yes   \n",
       "93797              16  B.Tech                                    No   \n",
       "93798              11      BA                                   Yes   \n",
       "93799              27    B.Ed                                    No   \n",
       "\n",
       "       Work/Study Hours  Financial Stress  \n",
       "0                     9                 2  \n",
       "1                     6                 3  \n",
       "2                    12                 3  \n",
       "3                    10                 3  \n",
       "4                     3                 3  \n",
       "...                 ...               ...  \n",
       "93795                 2                 1  \n",
       "93796                11                 2  \n",
       "93797                 7                 0  \n",
       "93798                 7                 4  \n",
       "93799                11                 1  \n",
       "\n",
       "[93800 rows x 8 columns]"
      ]
     },
     "execution_count": 128,
     "metadata": {},
     "output_type": "execute_result"
    }
   ],
   "source": [
    "def label_encoding(y,col):\n",
    "    from sklearn import preprocessing\n",
    "\n",
    "    label_encoder = preprocessing.LabelEncoder()\n",
    "    y[col] = label_encoder.fit_transform(y[col])\n",
    "    return y\n",
    "\n",
    "label_encoding(df_train,'Work/Study Hours')\n",
    "label_encoding(df_train,'Sleep Duration')\n",
    "label_encoding(df_train,'Financial Stress')\n",
    "\n",
    "label_encoding(df_test,'Work/Study Hours')\n",
    "label_encoding(df_test,'Sleep Duration')\n",
    "label_encoding(df_test,'Financial Stress')"
   ]
  },
  {
   "cell_type": "code",
   "execution_count": 108,
   "metadata": {},
   "outputs": [],
   "source": [
    "df_profession = df_train['Profession']\n",
    "df_degree = df_train['Degree']\n",
    "df_working_or_student = df_train['Working Professional or Student']\n",
    "df_suicidal_thoughts = df_train['Have you ever had suicidal thoughts ?']\n"
   ]
  },
  {
   "cell_type": "code",
   "execution_count": 114,
   "metadata": {},
   "outputs": [
    {
     "name": "stdout",
     "output_type": "stream",
     "text": [
      "Binary Encoder Saved!\n"
     ]
    }
   ],
   "source": [
    "import category_encoders as ce\n",
    "import pickle\n",
    "\n",
    "pro_encoder = ce.BinaryEncoder(cols=['Profession'])\n",
    "df_encoded = pro_encoder.fit_transform(df_profession)  \n",
    "\n",
    "deg_encoder = ce.BinaryEncoder(cols=['Degree'])\n",
    "df_encoded = deg_encoder.fit_transform(df_degree) \n",
    "\n",
    "w_s_encoder = ce.BinaryEncoder(cols=['Working Professional or Student'])\n",
    "df_encoded = w_s_encoder.fit_transform(df_working_or_student)  \n",
    "\n",
    "thoughts_encoder = ce.BinaryEncoder(cols=['Have you ever had suicidal thoughts ?'])\n",
    "df_encoded = thoughts_encoder.fit_transform(df_suicidal_thoughts)  \n",
    "\n",
    "\n",
    "with open(\"pro_encoder.pkl\", \"wb\") as f:\n",
    "    pickle.dump(pro_encoder, f)\n",
    "\n",
    "with open(\"deg_encoder.pkl\", \"wb\") as f:\n",
    "    pickle.dump(deg_encoder, f)\n",
    "\n",
    "with open(\"w_s_encoder.pkl\", \"wb\") as f:\n",
    "    pickle.dump(w_s_encoder, f)\n",
    "\n",
    "with open(\"thoughts_encoder.pkl\", \"wb\") as f:\n",
    "    pickle.dump(thoughts_encoder, f)           \n",
    "\n",
    "print(\"Binary Encoder Saved!\")"
   ]
  },
  {
   "cell_type": "code",
   "execution_count": 129,
   "metadata": {},
   "outputs": [],
   "source": [
    "import category_encoders as ce\n",
    "def binary_encoding(x_encoded,col):\n",
    "\n",
    "\n",
    "    binary_encoder = ce.BinaryEncoder(cols = [col])\n",
    "    x_encoded = binary_encoder.fit_transform(x_encoded)  # Creates a new DataFrame\n",
    "    return x_encoded\n",
    "\n",
    "df_train = binary_encoding(df_train,'Profession')\n",
    "df_train = binary_encoding(df_train,'Degree')\n",
    "df_train = binary_encoding(df_train,'Working Professional or Student')\n",
    "df_train = binary_encoding(df_train,'Have you ever had suicidal thoughts ?')\n",
    "\n",
    "df_test = binary_encoding(df_test,'Profession')\n",
    "df_test = binary_encoding(df_test,'Degree')\n",
    "df_test = binary_encoding(df_test,'Working Professional or Student')\n",
    "df_test = binary_encoding(df_test,'Have you ever had suicidal thoughts ?')\n"
   ]
  },
  {
   "cell_type": "code",
   "execution_count": 130,
   "metadata": {},
   "outputs": [
    {
     "data": {
      "text/html": [
       "<div>\n",
       "<style scoped>\n",
       "    .dataframe tbody tr th:only-of-type {\n",
       "        vertical-align: middle;\n",
       "    }\n",
       "\n",
       "    .dataframe tbody tr th {\n",
       "        vertical-align: top;\n",
       "    }\n",
       "\n",
       "    .dataframe thead th {\n",
       "        text-align: right;\n",
       "    }\n",
       "</style>\n",
       "<table border=\"1\" class=\"dataframe\">\n",
       "  <thead>\n",
       "    <tr style=\"text-align: right;\">\n",
       "      <th></th>\n",
       "      <th>Age</th>\n",
       "      <th>Working Professional or Student_0</th>\n",
       "      <th>Working Professional or Student_1</th>\n",
       "      <th>Profession_0</th>\n",
       "      <th>Profession_1</th>\n",
       "      <th>Profession_2</th>\n",
       "      <th>Profession_3</th>\n",
       "      <th>Profession_4</th>\n",
       "      <th>Profession_5</th>\n",
       "      <th>Profession_6</th>\n",
       "      <th>...</th>\n",
       "      <th>Degree_1</th>\n",
       "      <th>Degree_2</th>\n",
       "      <th>Degree_3</th>\n",
       "      <th>Degree_4</th>\n",
       "      <th>Degree_5</th>\n",
       "      <th>Degree_6</th>\n",
       "      <th>Have you ever had suicidal thoughts ?_0</th>\n",
       "      <th>Have you ever had suicidal thoughts ?_1</th>\n",
       "      <th>Work/Study Hours</th>\n",
       "      <th>Financial Stress</th>\n",
       "    </tr>\n",
       "  </thead>\n",
       "  <tbody>\n",
       "    <tr>\n",
       "      <th>0</th>\n",
       "      <td>1.022988</td>\n",
       "      <td>0</td>\n",
       "      <td>1</td>\n",
       "      <td>0</td>\n",
       "      <td>0</td>\n",
       "      <td>0</td>\n",
       "      <td>0</td>\n",
       "      <td>0</td>\n",
       "      <td>0</td>\n",
       "      <td>1</td>\n",
       "      <td>...</td>\n",
       "      <td>0</td>\n",
       "      <td>0</td>\n",
       "      <td>0</td>\n",
       "      <td>0</td>\n",
       "      <td>0</td>\n",
       "      <td>1</td>\n",
       "      <td>0</td>\n",
       "      <td>1</td>\n",
       "      <td>9</td>\n",
       "      <td>2</td>\n",
       "    </tr>\n",
       "    <tr>\n",
       "      <th>1</th>\n",
       "      <td>1.426428</td>\n",
       "      <td>0</td>\n",
       "      <td>1</td>\n",
       "      <td>0</td>\n",
       "      <td>0</td>\n",
       "      <td>0</td>\n",
       "      <td>0</td>\n",
       "      <td>0</td>\n",
       "      <td>1</td>\n",
       "      <td>0</td>\n",
       "      <td>...</td>\n",
       "      <td>0</td>\n",
       "      <td>0</td>\n",
       "      <td>0</td>\n",
       "      <td>0</td>\n",
       "      <td>1</td>\n",
       "      <td>0</td>\n",
       "      <td>0</td>\n",
       "      <td>1</td>\n",
       "      <td>6</td>\n",
       "      <td>3</td>\n",
       "    </tr>\n",
       "    <tr>\n",
       "      <th>2</th>\n",
       "      <td>1.022988</td>\n",
       "      <td>0</td>\n",
       "      <td>1</td>\n",
       "      <td>0</td>\n",
       "      <td>0</td>\n",
       "      <td>0</td>\n",
       "      <td>0</td>\n",
       "      <td>0</td>\n",
       "      <td>1</td>\n",
       "      <td>1</td>\n",
       "      <td>...</td>\n",
       "      <td>0</td>\n",
       "      <td>0</td>\n",
       "      <td>0</td>\n",
       "      <td>0</td>\n",
       "      <td>1</td>\n",
       "      <td>1</td>\n",
       "      <td>1</td>\n",
       "      <td>0</td>\n",
       "      <td>12</td>\n",
       "      <td>3</td>\n",
       "    </tr>\n",
       "    <tr>\n",
       "      <th>3</th>\n",
       "      <td>-1.397652</td>\n",
       "      <td>1</td>\n",
       "      <td>0</td>\n",
       "      <td>0</td>\n",
       "      <td>0</td>\n",
       "      <td>0</td>\n",
       "      <td>0</td>\n",
       "      <td>0</td>\n",
       "      <td>1</td>\n",
       "      <td>1</td>\n",
       "      <td>...</td>\n",
       "      <td>0</td>\n",
       "      <td>0</td>\n",
       "      <td>0</td>\n",
       "      <td>1</td>\n",
       "      <td>0</td>\n",
       "      <td>0</td>\n",
       "      <td>1</td>\n",
       "      <td>0</td>\n",
       "      <td>10</td>\n",
       "      <td>3</td>\n",
       "    </tr>\n",
       "    <tr>\n",
       "      <th>4</th>\n",
       "      <td>0.538860</td>\n",
       "      <td>0</td>\n",
       "      <td>1</td>\n",
       "      <td>0</td>\n",
       "      <td>0</td>\n",
       "      <td>0</td>\n",
       "      <td>0</td>\n",
       "      <td>0</td>\n",
       "      <td>1</td>\n",
       "      <td>1</td>\n",
       "      <td>...</td>\n",
       "      <td>0</td>\n",
       "      <td>0</td>\n",
       "      <td>0</td>\n",
       "      <td>1</td>\n",
       "      <td>0</td>\n",
       "      <td>1</td>\n",
       "      <td>1</td>\n",
       "      <td>0</td>\n",
       "      <td>3</td>\n",
       "      <td>3</td>\n",
       "    </tr>\n",
       "    <tr>\n",
       "      <th>...</th>\n",
       "      <td>...</td>\n",
       "      <td>...</td>\n",
       "      <td>...</td>\n",
       "      <td>...</td>\n",
       "      <td>...</td>\n",
       "      <td>...</td>\n",
       "      <td>...</td>\n",
       "      <td>...</td>\n",
       "      <td>...</td>\n",
       "      <td>...</td>\n",
       "      <td>...</td>\n",
       "      <td>...</td>\n",
       "      <td>...</td>\n",
       "      <td>...</td>\n",
       "      <td>...</td>\n",
       "      <td>...</td>\n",
       "      <td>...</td>\n",
       "      <td>...</td>\n",
       "      <td>...</td>\n",
       "      <td>...</td>\n",
       "      <td>...</td>\n",
       "    </tr>\n",
       "    <tr>\n",
       "      <th>93795</th>\n",
       "      <td>0.700236</td>\n",
       "      <td>0</td>\n",
       "      <td>1</td>\n",
       "      <td>0</td>\n",
       "      <td>0</td>\n",
       "      <td>1</td>\n",
       "      <td>0</td>\n",
       "      <td>0</td>\n",
       "      <td>0</td>\n",
       "      <td>0</td>\n",
       "      <td>...</td>\n",
       "      <td>0</td>\n",
       "      <td>0</td>\n",
       "      <td>0</td>\n",
       "      <td>1</td>\n",
       "      <td>0</td>\n",
       "      <td>0</td>\n",
       "      <td>1</td>\n",
       "      <td>0</td>\n",
       "      <td>2</td>\n",
       "      <td>1</td>\n",
       "    </tr>\n",
       "    <tr>\n",
       "      <th>93796</th>\n",
       "      <td>-0.913524</td>\n",
       "      <td>0</td>\n",
       "      <td>1</td>\n",
       "      <td>0</td>\n",
       "      <td>0</td>\n",
       "      <td>1</td>\n",
       "      <td>0</td>\n",
       "      <td>0</td>\n",
       "      <td>0</td>\n",
       "      <td>0</td>\n",
       "      <td>...</td>\n",
       "      <td>0</td>\n",
       "      <td>1</td>\n",
       "      <td>0</td>\n",
       "      <td>0</td>\n",
       "      <td>1</td>\n",
       "      <td>1</td>\n",
       "      <td>1</td>\n",
       "      <td>0</td>\n",
       "      <td>11</td>\n",
       "      <td>2</td>\n",
       "    </tr>\n",
       "    <tr>\n",
       "      <th>93797</th>\n",
       "      <td>-1.316964</td>\n",
       "      <td>1</td>\n",
       "      <td>0</td>\n",
       "      <td>0</td>\n",
       "      <td>0</td>\n",
       "      <td>0</td>\n",
       "      <td>0</td>\n",
       "      <td>0</td>\n",
       "      <td>1</td>\n",
       "      <td>1</td>\n",
       "      <td>...</td>\n",
       "      <td>0</td>\n",
       "      <td>1</td>\n",
       "      <td>0</td>\n",
       "      <td>1</td>\n",
       "      <td>0</td>\n",
       "      <td>1</td>\n",
       "      <td>0</td>\n",
       "      <td>1</td>\n",
       "      <td>7</td>\n",
       "      <td>0</td>\n",
       "    </tr>\n",
       "    <tr>\n",
       "      <th>93798</th>\n",
       "      <td>-1.397652</td>\n",
       "      <td>0</td>\n",
       "      <td>1</td>\n",
       "      <td>0</td>\n",
       "      <td>0</td>\n",
       "      <td>0</td>\n",
       "      <td>1</td>\n",
       "      <td>1</td>\n",
       "      <td>0</td>\n",
       "      <td>0</td>\n",
       "      <td>...</td>\n",
       "      <td>0</td>\n",
       "      <td>0</td>\n",
       "      <td>1</td>\n",
       "      <td>0</td>\n",
       "      <td>0</td>\n",
       "      <td>0</td>\n",
       "      <td>1</td>\n",
       "      <td>0</td>\n",
       "      <td>7</td>\n",
       "      <td>4</td>\n",
       "    </tr>\n",
       "    <tr>\n",
       "      <th>93799</th>\n",
       "      <td>0.216108</td>\n",
       "      <td>0</td>\n",
       "      <td>1</td>\n",
       "      <td>0</td>\n",
       "      <td>0</td>\n",
       "      <td>0</td>\n",
       "      <td>0</td>\n",
       "      <td>0</td>\n",
       "      <td>1</td>\n",
       "      <td>0</td>\n",
       "      <td>...</td>\n",
       "      <td>0</td>\n",
       "      <td>0</td>\n",
       "      <td>0</td>\n",
       "      <td>0</td>\n",
       "      <td>1</td>\n",
       "      <td>0</td>\n",
       "      <td>0</td>\n",
       "      <td>1</td>\n",
       "      <td>11</td>\n",
       "      <td>1</td>\n",
       "    </tr>\n",
       "  </tbody>\n",
       "</table>\n",
       "<p>93800 rows × 22 columns</p>\n",
       "</div>"
      ],
      "text/plain": [
       "            Age  Working Professional or Student_0  \\\n",
       "0      1.022988                                  0   \n",
       "1      1.426428                                  0   \n",
       "2      1.022988                                  0   \n",
       "3     -1.397652                                  1   \n",
       "4      0.538860                                  0   \n",
       "...         ...                                ...   \n",
       "93795  0.700236                                  0   \n",
       "93796 -0.913524                                  0   \n",
       "93797 -1.316964                                  1   \n",
       "93798 -1.397652                                  0   \n",
       "93799  0.216108                                  0   \n",
       "\n",
       "       Working Professional or Student_1  Profession_0  Profession_1  \\\n",
       "0                                      1             0             0   \n",
       "1                                      1             0             0   \n",
       "2                                      1             0             0   \n",
       "3                                      0             0             0   \n",
       "4                                      1             0             0   \n",
       "...                                  ...           ...           ...   \n",
       "93795                                  1             0             0   \n",
       "93796                                  1             0             0   \n",
       "93797                                  0             0             0   \n",
       "93798                                  1             0             0   \n",
       "93799                                  1             0             0   \n",
       "\n",
       "       Profession_2  Profession_3  Profession_4  Profession_5  Profession_6  \\\n",
       "0                 0             0             0             0             1   \n",
       "1                 0             0             0             1             0   \n",
       "2                 0             0             0             1             1   \n",
       "3                 0             0             0             1             1   \n",
       "4                 0             0             0             1             1   \n",
       "...             ...           ...           ...           ...           ...   \n",
       "93795             1             0             0             0             0   \n",
       "93796             1             0             0             0             0   \n",
       "93797             0             0             0             1             1   \n",
       "93798             0             1             1             0             0   \n",
       "93799             0             0             0             1             0   \n",
       "\n",
       "       ...  Degree_1  Degree_2  Degree_3  Degree_4  Degree_5  Degree_6  \\\n",
       "0      ...         0         0         0         0         0         1   \n",
       "1      ...         0         0         0         0         1         0   \n",
       "2      ...         0         0         0         0         1         1   \n",
       "3      ...         0         0         0         1         0         0   \n",
       "4      ...         0         0         0         1         0         1   \n",
       "...    ...       ...       ...       ...       ...       ...       ...   \n",
       "93795  ...         0         0         0         1         0         0   \n",
       "93796  ...         0         1         0         0         1         1   \n",
       "93797  ...         0         1         0         1         0         1   \n",
       "93798  ...         0         0         1         0         0         0   \n",
       "93799  ...         0         0         0         0         1         0   \n",
       "\n",
       "       Have you ever had suicidal thoughts ?_0  \\\n",
       "0                                            0   \n",
       "1                                            0   \n",
       "2                                            1   \n",
       "3                                            1   \n",
       "4                                            1   \n",
       "...                                        ...   \n",
       "93795                                        1   \n",
       "93796                                        1   \n",
       "93797                                        0   \n",
       "93798                                        1   \n",
       "93799                                        0   \n",
       "\n",
       "       Have you ever had suicidal thoughts ?_1  Work/Study Hours  \\\n",
       "0                                            1                 9   \n",
       "1                                            1                 6   \n",
       "2                                            0                12   \n",
       "3                                            0                10   \n",
       "4                                            0                 3   \n",
       "...                                        ...               ...   \n",
       "93795                                        0                 2   \n",
       "93796                                        0                11   \n",
       "93797                                        1                 7   \n",
       "93798                                        0                 7   \n",
       "93799                                        1                11   \n",
       "\n",
       "       Financial Stress  \n",
       "0                     2  \n",
       "1                     3  \n",
       "2                     3  \n",
       "3                     3  \n",
       "4                     3  \n",
       "...                 ...  \n",
       "93795                 1  \n",
       "93796                 2  \n",
       "93797                 0  \n",
       "93798                 4  \n",
       "93799                 1  \n",
       "\n",
       "[93800 rows x 22 columns]"
      ]
     },
     "execution_count": 130,
     "metadata": {},
     "output_type": "execute_result"
    }
   ],
   "source": [
    "\n",
    "from sklearn.preprocessing import StandardScaler\n",
    "\n",
    "def scaling(x,col):\n",
    "\n",
    "  scaler = StandardScaler()\n",
    "  x[col] = scaler.fit_transform(x[[col]])\n",
    "  return x\n",
    "  \n",
    "scaling(df_train,'Age')\n",
    "\n",
    "scaling(df_test,'Age')\n",
    "  "
   ]
  },
  {
   "cell_type": "markdown",
   "metadata": {},
   "source": [
    "pickling"
   ]
  },
  {
   "cell_type": "code",
   "execution_count": 44,
   "metadata": {},
   "outputs": [
    {
     "name": "stdout",
     "output_type": "stream",
     "text": [
      "Scaler saved successfully!\n"
     ]
    }
   ],
   "source": [
    "import pickle\n",
    "\n",
    "with open(\"age_scaler.pkl\", \"wb\") as f:\n",
    "    pickle.dump(age_scaler, f)\n",
    "\n",
    "print(\"Scaler saved successfully!\")"
   ]
  },
  {
   "cell_type": "markdown",
   "metadata": {},
   "source": [
    "# Deep learning Classification model"
   ]
  },
  {
   "cell_type": "code",
   "execution_count": 100,
   "metadata": {},
   "outputs": [],
   "source": [
    "import torch\n",
    "import torch.nn as nn # Sub class for neural network\n",
    "import torch.optim as optim # All the optimization algorithm Object creator\n",
    "import torch.nn.functional as F "
   ]
  },
  {
   "cell_type": "code",
   "execution_count": 101,
   "metadata": {},
   "outputs": [],
   "source": [
    "X = df_train.drop('Depression', axis= 1)\n",
    "y = df_train['Depression']"
   ]
  },
  {
   "cell_type": "markdown",
   "metadata": {},
   "source": [
    "Over sampling "
   ]
  },
  {
   "cell_type": "code",
   "execution_count": 134,
   "metadata": {},
   "outputs": [
    {
     "name": "stdout",
     "output_type": "stream",
     "text": [
      "Resampled X shape: (230266, 22)\n",
      "Resampled y shape: (230266,)\n"
     ]
    }
   ],
   "source": [
    "from imblearn.over_sampling import SMOTE\n",
    "\n",
    "smote = SMOTE(sampling_strategy=\"auto\", random_state=42)\n",
    "\n",
    "X_resampled, y_resampled = smote.fit_resample(X, y)\n",
    "\n",
    "print(\"Resampled X shape:\", X_resampled.shape)\n",
    "print(\"Resampled y shape:\", y_resampled.shape)\n"
   ]
  },
  {
   "cell_type": "code",
   "execution_count": 47,
   "metadata": {},
   "outputs": [],
   "source": [
    "import torch\n",
    "\n",
    "X_resampled = torch.tensor(X_resampled.values, dtype=torch.float32)\n",
    "y_resampled = torch.tensor(y_resampled, dtype=torch.float32).reshape(-1, 1)"
   ]
  },
  {
   "cell_type": "code",
   "execution_count": 48,
   "metadata": {},
   "outputs": [],
   "source": [
    "class classification(nn.Module):\n",
    "    def __init__(self):\n",
    "        super(classification,self).__init__()\n",
    "        self.layer1 = nn.Linear(22,48)\n",
    "        self.act1 = nn.ReLU()\n",
    "        self.layer2 = nn.Linear(48, 32)\n",
    "        self.act2 = nn.ReLU()\n",
    "        self.layer3 = nn.Linear(32, 16)\n",
    "        self.act3 = nn.ReLU()\n",
    "        self.output = nn.Linear(16, 1)\n",
    "        self.sigmoid = nn.Sigmoid()\n",
    " \n",
    "    def forward(self, x):\n",
    "        x = self.act1(self.layer1(x))\n",
    "        x = self.act2(self.layer2(x))\n",
    "        x = self.act3(self.layer3(x))\n",
    "        x = self.sigmoid(self.output(x))\n",
    "        return x"
   ]
  },
  {
   "cell_type": "code",
   "execution_count": null,
   "metadata": {},
   "outputs": [
    {
     "name": "stderr",
     "output_type": "stream",
     "text": [
      "Epoch 1: 100%|██████████| 17/17 [00:03<00:00,  5.62batch/s, loss=1.09] \n"
     ]
    },
    {
     "name": "stdout",
     "output_type": "stream",
     "text": [
      "Epoch 1: Loss = 13.6216, Training Accuracy = 0.5000\n"
     ]
    },
    {
     "name": "stderr",
     "output_type": "stream",
     "text": [
      "Epoch 2: 100%|██████████| 17/17 [00:03<00:00,  4.83batch/s, loss=0.933]\n"
     ]
    },
    {
     "name": "stdout",
     "output_type": "stream",
     "text": [
      "Epoch 2: Loss = 12.3069, Training Accuracy = 0.5000\n"
     ]
    },
    {
     "name": "stderr",
     "output_type": "stream",
     "text": [
      "Epoch 3: 100%|██████████| 17/17 [00:03<00:00,  5.63batch/s, loss=0.833]\n"
     ]
    },
    {
     "name": "stdout",
     "output_type": "stream",
     "text": [
      "Epoch 3: Loss = 11.9582, Training Accuracy = 0.5000\n"
     ]
    },
    {
     "name": "stderr",
     "output_type": "stream",
     "text": [
      "Epoch 4: 100%|██████████| 17/17 [00:02<00:00,  8.29batch/s, loss=0.762]\n"
     ]
    },
    {
     "name": "stdout",
     "output_type": "stream",
     "text": [
      "Epoch 4: Loss = 11.7494, Training Accuracy = 0.5000\n"
     ]
    },
    {
     "name": "stderr",
     "output_type": "stream",
     "text": [
      "Epoch 5: 100%|██████████| 17/17 [00:01<00:00,  9.67batch/s, loss=0.709]\n"
     ]
    },
    {
     "name": "stdout",
     "output_type": "stream",
     "text": [
      "Epoch 5: Loss = 11.5957, Training Accuracy = 0.7156\n"
     ]
    },
    {
     "name": "stderr",
     "output_type": "stream",
     "text": [
      "Epoch 6: 100%|██████████| 17/17 [00:01<00:00,  9.34batch/s, loss=0.655]\n"
     ]
    },
    {
     "name": "stdout",
     "output_type": "stream",
     "text": [
      "Epoch 6: Loss = 11.2435, Training Accuracy = 0.8269\n"
     ]
    },
    {
     "name": "stderr",
     "output_type": "stream",
     "text": [
      "Epoch 7: 100%|██████████| 17/17 [00:03<00:00,  4.66batch/s, loss=0.586]\n"
     ]
    },
    {
     "name": "stdout",
     "output_type": "stream",
     "text": [
      "Epoch 7: Loss = 10.7010, Training Accuracy = 0.8392\n"
     ]
    },
    {
     "name": "stderr",
     "output_type": "stream",
     "text": [
      "Epoch 8: 100%|██████████| 17/17 [00:02<00:00,  8.19batch/s, loss=0.52] \n"
     ]
    },
    {
     "name": "stdout",
     "output_type": "stream",
     "text": [
      "Epoch 8: Loss = 10.0344, Training Accuracy = 0.8593\n"
     ]
    },
    {
     "name": "stderr",
     "output_type": "stream",
     "text": [
      "Epoch 9: 100%|██████████| 17/17 [00:01<00:00,  8.79batch/s, loss=0.44] \n"
     ]
    },
    {
     "name": "stdout",
     "output_type": "stream",
     "text": [
      "Epoch 9: Loss = 9.1172, Training Accuracy = 0.8687\n"
     ]
    },
    {
     "name": "stderr",
     "output_type": "stream",
     "text": [
      "Epoch 10: 100%|██████████| 17/17 [00:01<00:00,  9.11batch/s, loss=0.366]\n"
     ]
    },
    {
     "name": "stdout",
     "output_type": "stream",
     "text": [
      "Epoch 10: Loss = 8.1636, Training Accuracy = 0.8763\n"
     ]
    },
    {
     "name": "stderr",
     "output_type": "stream",
     "text": [
      "Epoch 11: 100%|██████████| 17/17 [00:02<00:00,  8.12batch/s, loss=0.316]\n"
     ]
    },
    {
     "name": "stdout",
     "output_type": "stream",
     "text": [
      "Epoch 11: Loss = 7.2712, Training Accuracy = 0.8811\n"
     ]
    },
    {
     "name": "stderr",
     "output_type": "stream",
     "text": [
      "Epoch 12: 100%|██████████| 17/17 [00:01<00:00, 11.69batch/s, loss=0.276]\n"
     ]
    },
    {
     "name": "stdout",
     "output_type": "stream",
     "text": [
      "Epoch 12: Loss = 6.5391, Training Accuracy = 0.8834\n"
     ]
    },
    {
     "name": "stderr",
     "output_type": "stream",
     "text": [
      "Epoch 13: 100%|██████████| 17/17 [00:02<00:00,  6.62batch/s, loss=0.251]\n"
     ]
    },
    {
     "name": "stdout",
     "output_type": "stream",
     "text": [
      "Epoch 13: Loss = 6.1043, Training Accuracy = 0.8856\n"
     ]
    },
    {
     "name": "stderr",
     "output_type": "stream",
     "text": [
      "Epoch 14: 100%|██████████| 17/17 [00:01<00:00, 10.43batch/s, loss=0.242]\n"
     ]
    },
    {
     "name": "stdout",
     "output_type": "stream",
     "text": [
      "Epoch 14: Loss = 5.8026, Training Accuracy = 0.8881\n"
     ]
    },
    {
     "name": "stderr",
     "output_type": "stream",
     "text": [
      "Epoch 15: 100%|██████████| 17/17 [00:02<00:00,  6.31batch/s, loss=0.23] \n"
     ]
    },
    {
     "name": "stdout",
     "output_type": "stream",
     "text": [
      "Epoch 15: Loss = 5.5332, Training Accuracy = 0.8899\n"
     ]
    },
    {
     "name": "stderr",
     "output_type": "stream",
     "text": [
      "Epoch 16: 100%|██████████| 17/17 [00:01<00:00,  8.54batch/s, loss=0.223]\n"
     ]
    },
    {
     "name": "stdout",
     "output_type": "stream",
     "text": [
      "Epoch 16: Loss = 5.3887, Training Accuracy = 0.8916\n"
     ]
    },
    {
     "name": "stderr",
     "output_type": "stream",
     "text": [
      "Epoch 17: 100%|██████████| 17/17 [00:02<00:00,  6.57batch/s, loss=0.218]\n"
     ]
    },
    {
     "name": "stdout",
     "output_type": "stream",
     "text": [
      "Epoch 17: Loss = 5.2567, Training Accuracy = 0.8932\n"
     ]
    },
    {
     "name": "stderr",
     "output_type": "stream",
     "text": [
      "Epoch 18: 100%|██████████| 17/17 [00:02<00:00,  5.77batch/s, loss=0.213]\n"
     ]
    },
    {
     "name": "stdout",
     "output_type": "stream",
     "text": [
      "Epoch 18: Loss = 5.1573, Training Accuracy = 0.8945\n"
     ]
    },
    {
     "name": "stderr",
     "output_type": "stream",
     "text": [
      "Epoch 19: 100%|██████████| 17/17 [00:02<00:00,  6.84batch/s, loss=0.21] \n"
     ]
    },
    {
     "name": "stdout",
     "output_type": "stream",
     "text": [
      "Epoch 19: Loss = 5.0742, Training Accuracy = 0.8959\n"
     ]
    },
    {
     "name": "stderr",
     "output_type": "stream",
     "text": [
      "Epoch 20: 100%|██████████| 17/17 [00:01<00:00,  9.20batch/s, loss=0.208]\n"
     ]
    },
    {
     "name": "stdout",
     "output_type": "stream",
     "text": [
      "Epoch 20: Loss = 5.0044, Training Accuracy = 0.8969\n"
     ]
    },
    {
     "name": "stderr",
     "output_type": "stream",
     "text": [
      "Epoch 21: 100%|██████████| 17/17 [00:01<00:00, 11.74batch/s, loss=0.206]\n"
     ]
    },
    {
     "name": "stdout",
     "output_type": "stream",
     "text": [
      "Epoch 21: Loss = 4.9466, Training Accuracy = 0.8979\n"
     ]
    },
    {
     "name": "stderr",
     "output_type": "stream",
     "text": [
      "Epoch 22: 100%|██████████| 17/17 [00:02<00:00,  7.18batch/s, loss=0.204]\n"
     ]
    },
    {
     "name": "stdout",
     "output_type": "stream",
     "text": [
      "Epoch 22: Loss = 4.8979, Training Accuracy = 0.8987\n"
     ]
    },
    {
     "name": "stderr",
     "output_type": "stream",
     "text": [
      "Epoch 23: 100%|██████████| 17/17 [00:02<00:00,  5.94batch/s, loss=0.202]\n"
     ]
    },
    {
     "name": "stdout",
     "output_type": "stream",
     "text": [
      "Epoch 23: Loss = 4.8566, Training Accuracy = 0.8993\n"
     ]
    },
    {
     "name": "stderr",
     "output_type": "stream",
     "text": [
      "Epoch 24: 100%|██████████| 17/17 [00:03<00:00,  5.11batch/s, loss=0.201]\n"
     ]
    },
    {
     "name": "stdout",
     "output_type": "stream",
     "text": [
      "Epoch 24: Loss = 4.8220, Training Accuracy = 0.8997\n"
     ]
    },
    {
     "name": "stderr",
     "output_type": "stream",
     "text": [
      "Epoch 25: 100%|██████████| 17/17 [00:02<00:00,  8.02batch/s, loss=0.2]  \n"
     ]
    },
    {
     "name": "stdout",
     "output_type": "stream",
     "text": [
      "Epoch 25: Loss = 4.7914, Training Accuracy = 0.9002\n",
      "Final Training Accuracy: 0.9002\n"
     ]
    }
   ],
   "source": [
    "import tqdm\n",
    "import torch\n",
    "import torch.nn as nn\n",
    "import torch.optim as optim\n",
    "\n",
    "def model_train(clf, X_resampled, y_resampled, n_epochs=25, batch_size=14070, lr=0.001):\n",
    "  \n",
    "    loss_function = nn.BCELoss()  # Binary Cross-Entropy Loss\n",
    "    optimizer = optim.Adam(clf.parameters(), lr=lr)\n",
    "    \n",
    "    batch_start = torch.arange(0, len(X_resampled), batch_size)\n",
    "\n",
    "    for epoch in range(n_epochs):\n",
    "        clf.train()  # Set model to training mode\n",
    "        total_loss = 0.0  \n",
    "\n",
    "        with tqdm.tqdm(batch_start, unit=\"batch\", mininterval=0, disable=False) as bar:\n",
    "            bar.set_description(f\"Epoch {epoch + 1}\")\n",
    "\n",
    "            for start in bar:\n",
    "                # Take a batch\n",
    "                X_batch = X_resampled[start:start + batch_size]\n",
    "                y_batch = y_resampled[start:start + batch_size]\n",
    "\n",
    "                # Forward pass\n",
    "                y_pred = clf(X_batch)\n",
    "                loss = loss_function(y_pred, y_batch)\n",
    "\n",
    "                # Backward pass\n",
    "                optimizer.zero_grad()\n",
    "                loss.backward()\n",
    "                optimizer.step()\n",
    "\n",
    "                # Update loss\n",
    "                total_loss += loss.item()\n",
    "                bar.set_postfix(loss=loss.item())\n",
    "\n",
    "\n",
    "        clf.eval()\n",
    "        with torch.no_grad():  \n",
    "            y_train_pred = clf(X_resampled)\n",
    "            train_acc = (y_train_pred.round() == y_resampled).float().mean().item()  \n",
    "        print(f\"Epoch {epoch + 1}: Loss = {total_loss:.4f}, Training Accuracy = {train_acc:.4f}\")\n",
    "\n",
    "    return train_acc  \n",
    "\n",
    "\n",
    "clf = classification()  \n",
    "train_accuracy = model_train(clf, X_resampled, y_resampled)\n",
    "print(f\"Final Training Accuracy: {train_accuracy:.4f}\")"
   ]
  },
  {
   "cell_type": "code",
   "execution_count": null,
   "metadata": {},
   "outputs": [],
   "source": [
    "# Convert X_train to PyTorch tensor (if not already)\n",
    "X_train_tensor = X_resampled\n",
    "\n",
    "# Set model to evaluation mode\n",
    "clf.eval()\n",
    "\n",
    "with torch.no_grad():\n",
    "    y_train_pred = clf(X_train_tensor)  \n",
    "y_train_pred_labels = (y_train_pred >= 0.5).float().squeeze().numpy()"
   ]
  },
  {
   "cell_type": "code",
   "execution_count": 52,
   "metadata": {},
   "outputs": [
    {
     "name": "stdout",
     "output_type": "stream",
     "text": [
      "Accuracy: 0.9002\n",
      "Precision: 0.8712\n",
      "Recall: 0.9391\n",
      "F1-score: 0.9039\n"
     ]
    }
   ],
   "source": [
    "from sklearn.metrics import accuracy_score, precision_score, recall_score, f1_score\n",
    "import torch\n",
    "\n",
    "y_train_actual = y_resampled.squeeze().numpy()\n",
    "\n",
    "# Compute evaluation metrics\n",
    "accuracy = accuracy_score(y_train_actual, y_train_pred_labels)\n",
    "precision = precision_score(y_train_actual, y_train_pred_labels)\n",
    "recall = recall_score(y_train_actual, y_train_pred_labels)\n",
    "f1 = f1_score(y_train_actual, y_train_pred_labels)\n",
    "\n",
    "# Print results\n",
    "print(f\"Accuracy: {accuracy:.4f}\")\n",
    "print(f\"Precision: {precision:.4f}\")\n",
    "print(f\"Recall: {recall:.4f}\")\n",
    "print(f\"F1-score: {f1:.4f}\")\n"
   ]
  },
  {
   "cell_type": "code",
   "execution_count": 53,
   "metadata": {},
   "outputs": [],
   "source": [
    "X_test = df_test\n",
    "X_test = torch.tensor(X_test.values, dtype=torch.float32)"
   ]
  },
  {
   "cell_type": "markdown",
   "metadata": {},
   "source": [
    "saving the model"
   ]
  },
  {
   "cell_type": "code",
   "execution_count": 54,
   "metadata": {},
   "outputs": [
    {
     "name": "stdout",
     "output_type": "stream",
     "text": [
      "Trained model weights saved successfully!\n"
     ]
    }
   ],
   "source": [
    "import torch\n",
    "\n",
    "torch.save(clf.state_dict(), \"classification_weights.pth\")\n",
    "print(\"Trained model weights saved successfully!\")\n"
   ]
  },
  {
   "cell_type": "markdown",
   "metadata": {},
   "source": [
    "loading the model"
   ]
  },
  {
   "cell_type": "code",
   "execution_count": 55,
   "metadata": {},
   "outputs": [
    {
     "name": "stdout",
     "output_type": "stream",
     "text": [
      "Trained model loaded successfully!\n"
     ]
    }
   ],
   "source": [
    "import torch\n",
    "clf = classification()  \n",
    "\n",
    "# Load saved model weights\n",
    "clf.load_state_dict(torch.load(\"classification_weights.pth\"))\n",
    "\n",
    "# Set to evaluation mode (important for inference)\n",
    "clf.eval()\n",
    "\n",
    "print(\"Trained model loaded successfully!\")\n"
   ]
  },
  {
   "cell_type": "markdown",
   "metadata": {},
   "source": [
    "Testing unseen data"
   ]
  },
  {
   "cell_type": "code",
   "execution_count": 56,
   "metadata": {},
   "outputs": [
    {
     "name": "stdout",
     "output_type": "stream",
     "text": [
      "Predictions on unseen data: tensor([[0.],\n",
      "        [0.],\n",
      "        [0.],\n",
      "        ...,\n",
      "        [1.],\n",
      "        [1.],\n",
      "        [0.]])\n"
     ]
    }
   ],
   "source": [
    "with torch.no_grad():  # Disable gradients for inference\n",
    "    test_predictions = clf(X_test)  # Predict on test data\n",
    "    test_predictions = test_predictions.round()  # Convert probabilities to 0/1 for classification\n",
    "\n",
    "print(\"Predictions on unseen data:\", test_predictions)\n"
   ]
  }
 ],
 "metadata": {
  "kernelspec": {
   "display_name": "Python 3",
   "language": "python",
   "name": "python3"
  },
  "language_info": {
   "codemirror_mode": {
    "name": "ipython",
    "version": 3
   },
   "file_extension": ".py",
   "mimetype": "text/x-python",
   "name": "python",
   "nbconvert_exporter": "python",
   "pygments_lexer": "ipython3",
   "version": "3.12.4"
  }
 },
 "nbformat": 4,
 "nbformat_minor": 2
}
